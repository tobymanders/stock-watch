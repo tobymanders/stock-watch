{
 "cells": [
  {
   "cell_type": "code",
   "execution_count": 1,
   "metadata": {},
   "outputs": [],
   "source": [
    "import requests"
   ]
  },
  {
   "cell_type": "code",
   "execution_count": 2,
   "metadata": {},
   "outputs": [],
   "source": [
    "api_key = 'Syg9LF6J4rNlfmYpxgzCejev'"
   ]
  },
  {
   "cell_type": "code",
   "execution_count": 3,
   "metadata": {},
   "outputs": [],
   "source": [
    "request_url = 'https://api.bestbuy.com/v1/stores(postalCode=44121)?format=json&show=storeId,storeType,name,city,region&apiKey=' + api_key"
   ]
  },
  {
   "cell_type": "code",
   "execution_count": 4,
   "metadata": {},
   "outputs": [
    {
     "data": {
      "text/plain": [
       "'https://api.bestbuy.com/v1/stores(postalCode=44121)?format=json&show=storeId,storeType,name,city,region&apiKey=Syg9LF6J4rNlfmYpxgzCejev'"
      ]
     },
     "execution_count": 4,
     "metadata": {},
     "output_type": "execute_result"
    }
   ],
   "source": [
    "request_url"
   ]
  },
  {
   "cell_type": "code",
   "execution_count": 5,
   "metadata": {},
   "outputs": [],
   "source": [
    "res = requests.get(request_url)"
   ]
  },
  {
   "cell_type": "code",
   "execution_count": 6,
   "metadata": {},
   "outputs": [
    {
     "data": {
      "text/plain": [
       "200"
      ]
     },
     "execution_count": 6,
     "metadata": {},
     "output_type": "execute_result"
    }
   ],
   "source": [
    "res.status_code"
   ]
  },
  {
   "cell_type": "code",
   "execution_count": 7,
   "metadata": {},
   "outputs": [
    {
     "data": {
      "text/plain": [
       "b'{\"from\":1,\"to\":0,\"currentPage\":1,\"total\":0,\"totalPages\":0,\"queryTime\":\"0.006\",\"totalTime\":\"0.007\",\"partial\":false,\"canonicalUrl\":\"/v1/stores(postalCode=\\\\\"44121\\\\\")?show=storeId,storeType,name,city,region&format=json&apiKey=Syg9LF6J4rNlfmYpxgzCejev\",\"stores\":[]}'"
      ]
     },
     "execution_count": 7,
     "metadata": {},
     "output_type": "execute_result"
    }
   ],
   "source": [
    "res.content"
   ]
  },
  {
   "cell_type": "code",
   "execution_count": 14,
   "metadata": {},
   "outputs": [],
   "source": [
    "url2 = \"https://api.bestbuy.com/v1/stores(postalCode=55423)?format=json&show=storeId,storeType,name,city,region&apiKey=\" + api_key"
   ]
  },
  {
   "cell_type": "code",
   "execution_count": 15,
   "metadata": {},
   "outputs": [],
   "source": [
    "res2 = requests.get(url2)"
   ]
  },
  {
   "cell_type": "code",
   "execution_count": 16,
   "metadata": {},
   "outputs": [
    {
     "data": {
      "text/plain": [
       "b'{\"from\":1,\"to\":2,\"currentPage\":1,\"total\":2,\"totalPages\":1,\"queryTime\":\"0.029\",\"totalTime\":\"0.035\",\"partial\":false,\"canonicalUrl\":\"/v1/stores(postalCode=\\\\\"55423\\\\\")?show=storeId,storeType,name,city,region&format=json&apiKey=Syg9LF6J4rNlfmYpxgzCejev\",\"stores\":[{\"storeId\":281,\"storeType\":\"Big Box\",\"name\":\"RICHFIELD MN\",\"city\":\"Richfield\",\"region\":\"MN\"},{\"storeId\":8001,\"storeType\":\"Express Kiosk\",\"name\":\"BBM001HQMN\",\"city\":\"Richfield\",\"region\":\"MN\"}]}'"
      ]
     },
     "execution_count": 16,
     "metadata": {},
     "output_type": "execute_result"
    }
   ],
   "source": [
    "res2.content"
   ]
  },
  {
   "cell_type": "code",
   "execution_count": 17,
   "metadata": {},
   "outputs": [
    {
     "data": {
      "text/plain": [
       "{'from': 1,\n",
       " 'to': 2,\n",
       " 'currentPage': 1,\n",
       " 'total': 2,\n",
       " 'totalPages': 1,\n",
       " 'queryTime': '0.029',\n",
       " 'totalTime': '0.035',\n",
       " 'partial': False,\n",
       " 'canonicalUrl': '/v1/stores(postalCode=\"55423\")?show=storeId,storeType,name,city,region&format=json&apiKey=Syg9LF6J4rNlfmYpxgzCejev',\n",
       " 'stores': [{'storeId': 281,\n",
       "   'storeType': 'Big Box',\n",
       "   'name': 'RICHFIELD MN',\n",
       "   'city': 'Richfield',\n",
       "   'region': 'MN'},\n",
       "  {'storeId': 8001,\n",
       "   'storeType': 'Express Kiosk',\n",
       "   'name': 'BBM001HQMN',\n",
       "   'city': 'Richfield',\n",
       "   'region': 'MN'}]}"
      ]
     },
     "execution_count": 17,
     "metadata": {},
     "output_type": "execute_result"
    }
   ],
   "source": [
    "res2.json()"
   ]
  },
  {
   "cell_type": "code",
   "execution_count": 18,
   "metadata": {},
   "outputs": [],
   "source": [
    "json = res2.json()"
   ]
  },
  {
   "cell_type": "code",
   "execution_count": 19,
   "metadata": {},
   "outputs": [
    {
     "data": {
      "text/plain": [
       "'RICHFIELD MN'"
      ]
     },
     "execution_count": 19,
     "metadata": {},
     "output_type": "execute_result"
    }
   ],
   "source": [
    "json['stores'][0]['name']"
   ]
  },
  {
   "cell_type": "code",
   "execution_count": 20,
   "metadata": {},
   "outputs": [],
   "source": [
    "airpods_sku = '6084400'\n",
    "airpodspro_sku = '5706659'\n",
    "airpods_url = f\"https://api.bestbuy.com/v1/products/{airpods_sku}/stores.json?postalCode=55423&apiKey=\" + api_key\n",
    "airpodspro_url = f\"https://api.bestbuy.com/v1/products/{airpodspro_sku}/stores.json?postalCode=55423&apiKey=\" + api_key"
   ]
  },
  {
   "cell_type": "code",
   "execution_count": 25,
   "metadata": {},
   "outputs": [],
   "source": [
    "res3 = requests.get(airpods_url)"
   ]
  },
  {
   "cell_type": "code",
   "execution_count": 26,
   "metadata": {},
   "outputs": [],
   "source": [
    "json3 = res3.json()"
   ]
  },
  {
   "cell_type": "code",
   "execution_count": 27,
   "metadata": {},
   "outputs": [
    {
     "data": {
      "text/plain": [
       "{'ispuEligible': True,\n",
       " 'stores': [{'storeID': '281',\n",
       "   'name': 'Richfield',\n",
       "   'address': '1000 West 78th St',\n",
       "   'city': 'Richfield',\n",
       "   'state': 'MN',\n",
       "   'postalCode': '55423',\n",
       "   'storeType': 'Big_Box_Store',\n",
       "   'minPickupHours': None,\n",
       "   'lowStock': False},\n",
       "  {'storeID': '4',\n",
       "   'name': 'Minnetonka',\n",
       "   'address': '13513 Ridgedale Dr',\n",
       "   'city': 'Hopkins',\n",
       "   'state': 'MN',\n",
       "   'postalCode': '55305',\n",
       "   'storeType': 'Big_Box_Store',\n",
       "   'minPickupHours': None,\n",
       "   'lowStock': False},\n",
       "  {'storeID': '7',\n",
       "   'name': 'Roseville',\n",
       "   'address': '1643 County Road B2',\n",
       "   'city': 'Roseville',\n",
       "   'state': 'MN',\n",
       "   'postalCode': '55113',\n",
       "   'storeType': 'Big_Box_Store',\n",
       "   'minPickupHours': None,\n",
       "   'lowStock': False},\n",
       "  {'storeID': '10',\n",
       "   'name': 'Maplewood',\n",
       "   'address': '1795 County Rd D E',\n",
       "   'city': 'Maplewood',\n",
       "   'state': 'MN',\n",
       "   'postalCode': '55109',\n",
       "   'storeType': 'Big_Box_Store',\n",
       "   'minPickupHours': None,\n",
       "   'lowStock': False},\n",
       "  {'storeID': '11',\n",
       "   'name': 'Northtown',\n",
       "   'address': '300 Northtown Dr NE',\n",
       "   'city': 'Blaine',\n",
       "   'state': 'MN',\n",
       "   'postalCode': '55434',\n",
       "   'storeType': 'Big_Box_Store',\n",
       "   'minPickupHours': None,\n",
       "   'lowStock': False},\n",
       "  {'storeID': '15',\n",
       "   'name': 'Oakdale',\n",
       "   'address': '8301 3rd St N',\n",
       "   'city': 'Oakdale',\n",
       "   'state': 'MN',\n",
       "   'postalCode': '55128',\n",
       "   'storeType': 'Big_Box_Store',\n",
       "   'minPickupHours': None,\n",
       "   'lowStock': False},\n",
       "  {'storeID': '40',\n",
       "   'name': 'Eau Claire',\n",
       "   'address': '4090 Commonwealth Ave',\n",
       "   'city': 'Eau Claire',\n",
       "   'state': 'WI',\n",
       "   'postalCode': '54701',\n",
       "   'storeType': 'Self_Delivery_Store',\n",
       "   'minPickupHours': None,\n",
       "   'lowStock': False},\n",
       "  {'storeID': '43',\n",
       "   'name': 'Duluth',\n",
       "   'address': '5105 Burning Tree Rd',\n",
       "   'city': 'Duluth',\n",
       "   'state': 'MN',\n",
       "   'postalCode': '55811',\n",
       "   'storeType': 'Self_Delivery_Store',\n",
       "   'minPickupHours': None,\n",
       "   'lowStock': False},\n",
       "  {'storeID': '17',\n",
       "   'name': 'Sioux Falls',\n",
       "   'address': '2101 W 41st St',\n",
       "   'city': 'Sioux Falls',\n",
       "   'state': 'SD',\n",
       "   'postalCode': '57105',\n",
       "   'storeType': 'Self_Delivery_Store',\n",
       "   'minPickupHours': None,\n",
       "   'lowStock': False},\n",
       "  {'storeID': '812',\n",
       "   'name': 'Ames',\n",
       "   'address': '1220 S Duff Ave',\n",
       "   'city': 'Ames',\n",
       "   'state': 'IA',\n",
       "   'postalCode': '50010',\n",
       "   'storeType': 'Self_Delivery_Store',\n",
       "   'minPickupHours': None,\n",
       "   'lowStock': False}]}"
      ]
     },
     "execution_count": 27,
     "metadata": {},
     "output_type": "execute_result"
    }
   ],
   "source": [
    "json3"
   ]
  },
  {
   "cell_type": "code",
   "execution_count": 21,
   "metadata": {},
   "outputs": [],
   "source": [
    "res4 = requests.get(airpodspro_url)"
   ]
  },
  {
   "cell_type": "code",
   "execution_count": 22,
   "metadata": {},
   "outputs": [
    {
     "data": {
      "text/plain": [
       "200"
      ]
     },
     "execution_count": 22,
     "metadata": {},
     "output_type": "execute_result"
    }
   ],
   "source": [
    "res4.status_code"
   ]
  },
  {
   "cell_type": "code",
   "execution_count": 23,
   "metadata": {},
   "outputs": [],
   "source": [
    "json4 = res4.json()"
   ]
  },
  {
   "cell_type": "code",
   "execution_count": 24,
   "metadata": {},
   "outputs": [
    {
     "data": {
      "text/plain": [
       "{'ispuEligible': True, 'stores': []}"
      ]
     },
     "execution_count": 24,
     "metadata": {},
     "output_type": "execute_result"
    }
   ],
   "source": [
    "json4"
   ]
  },
  {
   "cell_type": "code",
   "execution_count": null,
   "metadata": {},
   "outputs": [],
   "source": []
  }
 ],
 "metadata": {
  "kernelspec": {
   "display_name": "Python 3",
   "language": "python",
   "name": "python3"
  },
  "language_info": {
   "codemirror_mode": {
    "name": "ipython",
    "version": 3
   },
   "file_extension": ".py",
   "mimetype": "text/x-python",
   "name": "python",
   "nbconvert_exporter": "python",
   "pygments_lexer": "ipython3",
   "version": "3.7.4"
  }
 },
 "nbformat": 4,
 "nbformat_minor": 2
}
